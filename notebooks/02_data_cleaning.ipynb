{
 "cells": [
  {
   "cell_type": "markdown",
   "id": "d61e1015",
   "metadata": {},
   "source": [
    "# Data Cleaning and Outlier Handling\n",
    "\n",
    "Due to the simplexity of our pivoted dataset, is not really nescesary to perform a Data Cleaning right now."
   ]
  }
 ],
 "metadata": {
  "kernelspec": {
   "display_name": "Enverus",
   "language": "python",
   "name": "python3"
  },
  "language_info": {
   "codemirror_mode": {
    "name": "ipython",
    "version": 3
   },
   "file_extension": ".py",
   "mimetype": "text/x-python",
   "name": "python",
   "nbconvert_exporter": "python",
   "pygments_lexer": "ipython3",
   "version": "3.12.8"
  }
 },
 "nbformat": 4,
 "nbformat_minor": 5
}
