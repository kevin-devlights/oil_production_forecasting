{
 "cells": [
  {
   "cell_type": "markdown",
   "id": "9caaabd0",
   "metadata": {},
   "source": [
    "# Data Exploration\n",
    "\n",
    "**Objective**: Understand the structure, quality, and characteristics of the historical oil on PADD 3 (R30) (Gulf Coast), which includes Texas and Louisiana – the largest oil-producing region in the U.S. This dataset was obtained from an oficcial US Company, calkled EIA. \n",
    "\n",
    "*NOTE:*\n",
    "* MBBL/D → Thousand Barrels Per Day (average daily production in that month)\n",
    "* MBBL → Total Thousand Barrels produced in the entire month\n",
    "\n",
    "https://www.eia.gov/opendata/browser/petroleum/crd/crpdn?frequency=monthly&data=value;&start=1960-01&sortColumn=period;&sortDirection=desc;"
   ]
  },
  {
   "cell_type": "markdown",
   "id": "4fcbe99a",
   "metadata": {},
   "source": [
    "### 1. Imports & Setup"
   ]
  },
  {
   "cell_type": "code",
   "execution_count": 40,
   "id": "07fd1718",
   "metadata": {},
   "outputs": [],
   "source": [
    "import os\n",
    "from dotenv import load_dotenv\n",
    "import pandas as pd\n",
    "import numpy as np\n",
    "import matplotlib.pyplot as plt\n",
    "import seaborn as sns\n",
    "import requests\n",
    "\n",
    "plt.style.use('seaborn-v0_8-whitegrid')\n",
    "sns.set_palette('muted')"
   ]
  },
  {
   "cell_type": "code",
   "execution_count": 65,
   "id": "bfe8181c",
   "metadata": {},
   "outputs": [],
   "source": [
    "# Load API key from .env file\n",
    "load_dotenv()\n",
    "API_KEY = os.getenv('EIA_API_KEY')"
   ]
  },
  {
   "cell_type": "markdown",
   "id": "7bb481d6",
   "metadata": {},
   "source": [
    "### 2.Data Loading"
   ]
  },
  {
   "cell_type": "code",
   "execution_count": 69,
   "id": "2f00cf97",
   "metadata": {},
   "outputs": [
    {
     "name": "stdout",
     "output_type": "stream",
     "text": [
      "Success! Saved 1060 records.\n"
     ]
    }
   ],
   "source": [
    "# Configure API request for PADD 3 (R30)\n",
    "base_url = (\n",
    "    'https://api.eia.gov/v2/petroleum/crd/crpdn/data/'\n",
    "    '?api_key={}'\n",
    "    '&frequency=monthly'\n",
    "    '&data[0]=value'\n",
    "    '&facets[duoarea][]=R30'\n",
    "    '&start=1960-01'\n",
    "    '&sort[0][column]=period'\n",
    "    '&sort[0][direction]=asc'\n",
    "    '&offset={}'\n",
    "    '&length=5000'\n",
    ")\n",
    "\n",
    "all_records = []\n",
    "offset = 0\n",
    "\n",
    "while True:\n",
    "    url = base_url.format(API_KEY, offset)\n",
    "    response = requests.get(url)\n",
    "    \n",
    "    if response.status_code != 200:\n",
    "        print(f\"Error at offset {offset}: {response.status_code}\")\n",
    "        break\n",
    "        \n",
    "    data = response.json()\n",
    "    records = data['response']['data']\n",
    "    all_records.extend(records)\n",
    "    \n",
    "    if len(records) < 5000:\n",
    "        break  # Exit loop when all data is retrieved\n",
    "    \n",
    "    offset += 5000\n",
    "\n",
    "# Process and save data\n",
    "if all_records:\n",
    "    df = pd.DataFrame(all_records)\n",
    "    df['period'] = pd.to_datetime(df['period'])\n",
    "    df.to_csv('../data/raw/oil_production_padd3_1960_present.csv', index=False)\n",
    "    print(f\"Success! Saved {len(df)} records.\")\n",
    "else:\n",
    "    print(\"No data found. Check your API key or parameters.\")"
   ]
  },
  {
   "cell_type": "code",
   "execution_count": 84,
   "id": "00b56df7",
   "metadata": {},
   "outputs": [
    {
     "data": {
      "application/vnd.microsoft.datawrangler.viewer.v0+json": {
       "columns": [
        {
         "name": "index",
         "rawType": "int64",
         "type": "integer"
        },
        {
         "name": "period",
         "rawType": "datetime64[ns]",
         "type": "datetime"
        },
        {
         "name": "duoarea",
         "rawType": "object",
         "type": "string"
        },
        {
         "name": "area-name",
         "rawType": "object",
         "type": "string"
        },
        {
         "name": "product",
         "rawType": "object",
         "type": "string"
        },
        {
         "name": "product-name",
         "rawType": "object",
         "type": "string"
        },
        {
         "name": "process",
         "rawType": "object",
         "type": "string"
        },
        {
         "name": "process-name",
         "rawType": "object",
         "type": "string"
        },
        {
         "name": "series",
         "rawType": "object",
         "type": "string"
        },
        {
         "name": "series-description",
         "rawType": "object",
         "type": "string"
        },
        {
         "name": "value",
         "rawType": "int64",
         "type": "integer"
        },
        {
         "name": "units",
         "rawType": "object",
         "type": "string"
        }
       ],
       "conversionMethod": "pd.DataFrame",
       "ref": "9ee827f7-513f-4c24-bb08-77831b7db966",
       "rows": [
        [
         "0",
         "1981-01-01 00:00:00",
         "R30",
         "PADD 3",
         "EPC0",
         "Crude Oil",
         "FPF",
         "Field Production",
         "MCRFPP32",
         "Gulf Coast (PADD 3) Field Production of Crude Oil (Thousand Barrels per Day)",
         "4277",
         "MBBL/D"
        ],
        [
         "1",
         "1981-01-01 00:00:00",
         "R30",
         "PADD 3",
         "EPC0",
         "Crude Oil",
         "FPF",
         "Field Production",
         "MCRFPP31",
         "Gulf Coast (PADD 3) Field Production of Crude Oil (Thousand Barrels)",
         "132577",
         "MBBL"
        ],
        [
         "2",
         "1981-02-01 00:00:00",
         "R30",
         "PADD 3",
         "EPC0",
         "Crude Oil",
         "FPF",
         "Field Production",
         "MCRFPP32",
         "Gulf Coast (PADD 3) Field Production of Crude Oil (Thousand Barrels per Day)",
         "4265",
         "MBBL/D"
        ],
        [
         "3",
         "1981-02-01 00:00:00",
         "R30",
         "PADD 3",
         "EPC0",
         "Crude Oil",
         "FPF",
         "Field Production",
         "MCRFPP31",
         "Gulf Coast (PADD 3) Field Production of Crude Oil (Thousand Barrels)",
         "119414",
         "MBBL"
        ],
        [
         "4",
         "1981-03-01 00:00:00",
         "R30",
         "PADD 3",
         "EPC0",
         "Crude Oil",
         "FPF",
         "Field Production",
         "MCRFPP32",
         "Gulf Coast (PADD 3) Field Production of Crude Oil (Thousand Barrels per Day)",
         "4287",
         "MBBL/D"
        ]
       ],
       "shape": {
        "columns": 11,
        "rows": 5
       }
      },
      "text/html": [
       "<div>\n",
       "<style scoped>\n",
       "    .dataframe tbody tr th:only-of-type {\n",
       "        vertical-align: middle;\n",
       "    }\n",
       "\n",
       "    .dataframe tbody tr th {\n",
       "        vertical-align: top;\n",
       "    }\n",
       "\n",
       "    .dataframe thead th {\n",
       "        text-align: right;\n",
       "    }\n",
       "</style>\n",
       "<table border=\"1\" class=\"dataframe\">\n",
       "  <thead>\n",
       "    <tr style=\"text-align: right;\">\n",
       "      <th></th>\n",
       "      <th>period</th>\n",
       "      <th>duoarea</th>\n",
       "      <th>area-name</th>\n",
       "      <th>product</th>\n",
       "      <th>product-name</th>\n",
       "      <th>process</th>\n",
       "      <th>process-name</th>\n",
       "      <th>series</th>\n",
       "      <th>series-description</th>\n",
       "      <th>value</th>\n",
       "      <th>units</th>\n",
       "    </tr>\n",
       "  </thead>\n",
       "  <tbody>\n",
       "    <tr>\n",
       "      <th>0</th>\n",
       "      <td>1981-01-01</td>\n",
       "      <td>R30</td>\n",
       "      <td>PADD 3</td>\n",
       "      <td>EPC0</td>\n",
       "      <td>Crude Oil</td>\n",
       "      <td>FPF</td>\n",
       "      <td>Field Production</td>\n",
       "      <td>MCRFPP32</td>\n",
       "      <td>Gulf Coast (PADD 3) Field Production of Crude ...</td>\n",
       "      <td>4277</td>\n",
       "      <td>MBBL/D</td>\n",
       "    </tr>\n",
       "    <tr>\n",
       "      <th>1</th>\n",
       "      <td>1981-01-01</td>\n",
       "      <td>R30</td>\n",
       "      <td>PADD 3</td>\n",
       "      <td>EPC0</td>\n",
       "      <td>Crude Oil</td>\n",
       "      <td>FPF</td>\n",
       "      <td>Field Production</td>\n",
       "      <td>MCRFPP31</td>\n",
       "      <td>Gulf Coast (PADD 3) Field Production of Crude ...</td>\n",
       "      <td>132577</td>\n",
       "      <td>MBBL</td>\n",
       "    </tr>\n",
       "    <tr>\n",
       "      <th>2</th>\n",
       "      <td>1981-02-01</td>\n",
       "      <td>R30</td>\n",
       "      <td>PADD 3</td>\n",
       "      <td>EPC0</td>\n",
       "      <td>Crude Oil</td>\n",
       "      <td>FPF</td>\n",
       "      <td>Field Production</td>\n",
       "      <td>MCRFPP32</td>\n",
       "      <td>Gulf Coast (PADD 3) Field Production of Crude ...</td>\n",
       "      <td>4265</td>\n",
       "      <td>MBBL/D</td>\n",
       "    </tr>\n",
       "    <tr>\n",
       "      <th>3</th>\n",
       "      <td>1981-02-01</td>\n",
       "      <td>R30</td>\n",
       "      <td>PADD 3</td>\n",
       "      <td>EPC0</td>\n",
       "      <td>Crude Oil</td>\n",
       "      <td>FPF</td>\n",
       "      <td>Field Production</td>\n",
       "      <td>MCRFPP31</td>\n",
       "      <td>Gulf Coast (PADD 3) Field Production of Crude ...</td>\n",
       "      <td>119414</td>\n",
       "      <td>MBBL</td>\n",
       "    </tr>\n",
       "    <tr>\n",
       "      <th>4</th>\n",
       "      <td>1981-03-01</td>\n",
       "      <td>R30</td>\n",
       "      <td>PADD 3</td>\n",
       "      <td>EPC0</td>\n",
       "      <td>Crude Oil</td>\n",
       "      <td>FPF</td>\n",
       "      <td>Field Production</td>\n",
       "      <td>MCRFPP32</td>\n",
       "      <td>Gulf Coast (PADD 3) Field Production of Crude ...</td>\n",
       "      <td>4287</td>\n",
       "      <td>MBBL/D</td>\n",
       "    </tr>\n",
       "  </tbody>\n",
       "</table>\n",
       "</div>"
      ],
      "text/plain": [
       "      period duoarea area-name product product-name process      process-name  \\\n",
       "0 1981-01-01     R30    PADD 3    EPC0    Crude Oil     FPF  Field Production   \n",
       "1 1981-01-01     R30    PADD 3    EPC0    Crude Oil     FPF  Field Production   \n",
       "2 1981-02-01     R30    PADD 3    EPC0    Crude Oil     FPF  Field Production   \n",
       "3 1981-02-01     R30    PADD 3    EPC0    Crude Oil     FPF  Field Production   \n",
       "4 1981-03-01     R30    PADD 3    EPC0    Crude Oil     FPF  Field Production   \n",
       "\n",
       "     series                                 series-description   value   units  \n",
       "0  MCRFPP32  Gulf Coast (PADD 3) Field Production of Crude ...    4277  MBBL/D  \n",
       "1  MCRFPP31  Gulf Coast (PADD 3) Field Production of Crude ...  132577    MBBL  \n",
       "2  MCRFPP32  Gulf Coast (PADD 3) Field Production of Crude ...    4265  MBBL/D  \n",
       "3  MCRFPP31  Gulf Coast (PADD 3) Field Production of Crude ...  119414    MBBL  \n",
       "4  MCRFPP32  Gulf Coast (PADD 3) Field Production of Crude ...    4287  MBBL/D  "
      ]
     },
     "execution_count": 84,
     "metadata": {},
     "output_type": "execute_result"
    }
   ],
   "source": [
    "# Preview the dataframe\n",
    "df.head()"
   ]
  },
  {
   "cell_type": "markdown",
   "id": "db45b595",
   "metadata": {},
   "source": [
    "### 3.Basic Data Overview"
   ]
  },
  {
   "cell_type": "code",
   "execution_count": 85,
   "id": "34a5d80d",
   "metadata": {},
   "outputs": [],
   "source": [
    "# transform value to numeric type.\n",
    "df['value'] = pd.to_numeric(df['value'], errors='coerce')"
   ]
  },
  {
   "cell_type": "code",
   "execution_count": 86,
   "id": "f4cd0415",
   "metadata": {},
   "outputs": [
    {
     "name": "stdout",
     "output_type": "stream",
     "text": [
      "Rows: 1060, Columns: 11\n",
      "<class 'pandas.core.frame.DataFrame'>\n",
      "RangeIndex: 1060 entries, 0 to 1059\n",
      "Data columns (total 11 columns):\n",
      " #   Column              Non-Null Count  Dtype         \n",
      "---  ------              --------------  -----         \n",
      " 0   period              1060 non-null   datetime64[ns]\n",
      " 1   duoarea             1060 non-null   object        \n",
      " 2   area-name           1060 non-null   object        \n",
      " 3   product             1060 non-null   object        \n",
      " 4   product-name        1060 non-null   object        \n",
      " 5   process             1060 non-null   object        \n",
      " 6   process-name        1060 non-null   object        \n",
      " 7   series              1060 non-null   object        \n",
      " 8   series-description  1060 non-null   object        \n",
      " 9   value               1060 non-null   int64         \n",
      " 10  units               1060 non-null   object        \n",
      "dtypes: datetime64[ns](1), int64(1), object(9)\n",
      "memory usage: 91.2+ KB\n"
     ]
    },
    {
     "data": {
      "application/vnd.microsoft.datawrangler.viewer.v0+json": {
       "columns": [
        {
         "name": "index",
         "rawType": "object",
         "type": "string"
        },
        {
         "name": "count",
         "rawType": "object",
         "type": "unknown"
        },
        {
         "name": "mean",
         "rawType": "object",
         "type": "unknown"
        },
        {
         "name": "min",
         "rawType": "object",
         "type": "unknown"
        },
        {
         "name": "25%",
         "rawType": "object",
         "type": "unknown"
        },
        {
         "name": "50%",
         "rawType": "object",
         "type": "unknown"
        },
        {
         "name": "75%",
         "rawType": "object",
         "type": "unknown"
        },
        {
         "name": "max",
         "rawType": "object",
         "type": "unknown"
        },
        {
         "name": "std",
         "rawType": "object",
         "type": "unknown"
        }
       ],
       "conversionMethod": "pd.DataFrame",
       "ref": "c1df3993-3121-4ce3-a9ef-f4450460ebe1",
       "rows": [
        [
         "period",
         "1060",
         "2003-01-15 15:37:21.509433984",
         "1981-01-01 00:00:00",
         "1992-01-01 00:00:00",
         "2003-01-16 12:00:00",
         "2014-02-01 00:00:00",
         "2025-02-01 00:00:00",
         null
        ],
        [
         "value",
         "1060.0",
         "69601.08773584905",
         "1664.0",
         "3442.75",
         "29887.5",
         "105587.75",
         "305104.0",
         "77320.76613228256"
        ]
       ],
       "shape": {
        "columns": 8,
        "rows": 2
       }
      },
      "text/html": [
       "<div>\n",
       "<style scoped>\n",
       "    .dataframe tbody tr th:only-of-type {\n",
       "        vertical-align: middle;\n",
       "    }\n",
       "\n",
       "    .dataframe tbody tr th {\n",
       "        vertical-align: top;\n",
       "    }\n",
       "\n",
       "    .dataframe thead th {\n",
       "        text-align: right;\n",
       "    }\n",
       "</style>\n",
       "<table border=\"1\" class=\"dataframe\">\n",
       "  <thead>\n",
       "    <tr style=\"text-align: right;\">\n",
       "      <th></th>\n",
       "      <th>count</th>\n",
       "      <th>mean</th>\n",
       "      <th>min</th>\n",
       "      <th>25%</th>\n",
       "      <th>50%</th>\n",
       "      <th>75%</th>\n",
       "      <th>max</th>\n",
       "      <th>std</th>\n",
       "    </tr>\n",
       "  </thead>\n",
       "  <tbody>\n",
       "    <tr>\n",
       "      <th>period</th>\n",
       "      <td>1060</td>\n",
       "      <td>2003-01-15 15:37:21.509433984</td>\n",
       "      <td>1981-01-01 00:00:00</td>\n",
       "      <td>1992-01-01 00:00:00</td>\n",
       "      <td>2003-01-16 12:00:00</td>\n",
       "      <td>2014-02-01 00:00:00</td>\n",
       "      <td>2025-02-01 00:00:00</td>\n",
       "      <td>NaN</td>\n",
       "    </tr>\n",
       "    <tr>\n",
       "      <th>value</th>\n",
       "      <td>1060.0</td>\n",
       "      <td>69601.087736</td>\n",
       "      <td>1664.0</td>\n",
       "      <td>3442.75</td>\n",
       "      <td>29887.5</td>\n",
       "      <td>105587.75</td>\n",
       "      <td>305104.0</td>\n",
       "      <td>77320.766132</td>\n",
       "    </tr>\n",
       "  </tbody>\n",
       "</table>\n",
       "</div>"
      ],
      "text/plain": [
       "         count                           mean                  min  \\\n",
       "period    1060  2003-01-15 15:37:21.509433984  1981-01-01 00:00:00   \n",
       "value   1060.0                   69601.087736               1664.0   \n",
       "\n",
       "                        25%                  50%                  75%  \\\n",
       "period  1992-01-01 00:00:00  2003-01-16 12:00:00  2014-02-01 00:00:00   \n",
       "value               3442.75              29887.5            105587.75   \n",
       "\n",
       "                        max           std  \n",
       "period  2025-02-01 00:00:00           NaN  \n",
       "value              305104.0  77320.766132  "
      ]
     },
     "execution_count": 86,
     "metadata": {},
     "output_type": "execute_result"
    }
   ],
   "source": [
    "print(f\"Rows: {df.shape[0]}, Columns: {df.shape[1]}\")\n",
    "df.info()\n",
    "df.describe().T"
   ]
  },
  {
   "cell_type": "markdown",
   "id": "55d09eb2",
   "metadata": {},
   "source": [
    "### 4.Data Quality Checks"
   ]
  },
  {
   "cell_type": "code",
   "execution_count": 87,
   "id": "8ff2be4e",
   "metadata": {},
   "outputs": [
    {
     "name": "stdout",
     "output_type": "stream",
     "text": [
      "Missing values:\n",
      " Series([], dtype: int64)\n"
     ]
    }
   ],
   "source": [
    "# Check for missing values\n",
    "missing = df.isnull().sum()\n",
    "print(\"Missing values:\\n\", missing[missing > 0])"
   ]
  },
  {
   "cell_type": "code",
   "execution_count": 88,
   "id": "40cf40a7",
   "metadata": {},
   "outputs": [
    {
     "name": "stdout",
     "output_type": "stream",
     "text": [
      "Duplicated rows: 0\n"
     ]
    }
   ],
   "source": [
    "# Check for duplicates\n",
    "duplicates = df.duplicated().sum()\n",
    "print(f\"Duplicated rows: {duplicates}\")"
   ]
  },
  {
   "cell_type": "markdown",
   "id": "e0479d8c",
   "metadata": {},
   "source": [
    "### 5.Data Preprocessing"
   ]
  },
  {
   "cell_type": "code",
   "execution_count": 99,
   "id": "3a4b916b",
   "metadata": {},
   "outputs": [
    {
     "data": {
      "application/vnd.microsoft.datawrangler.viewer.v0+json": {
       "columns": [
        {
         "name": "period",
         "rawType": "datetime64[ns]",
         "type": "datetime"
        },
        {
         "name": "MBBL",
         "rawType": "int64",
         "type": "integer"
        },
        {
         "name": "MBBL/D",
         "rawType": "int64",
         "type": "integer"
        }
       ],
       "conversionMethod": "pd.DataFrame",
       "ref": "36f2a660-212a-4627-a200-26fd8786e2b7",
       "rows": [
        [
         "1981-01-01 00:00:00",
         "132577",
         "4277"
        ],
        [
         "1981-02-01 00:00:00",
         "119414",
         "4265"
        ],
        [
         "1981-03-01 00:00:00",
         "132899",
         "4287"
        ],
        [
         "1981-04-01 00:00:00",
         "127524",
         "4251"
        ],
        [
         "1981-05-01 00:00:00",
         "129558",
         "4179"
        ],
        [
         "1981-06-01 00:00:00",
         "126566",
         "4219"
        ],
        [
         "1981-07-01 00:00:00",
         "129775",
         "4186"
        ],
        [
         "1981-08-01 00:00:00",
         "130475",
         "4209"
        ],
        [
         "1981-09-01 00:00:00",
         "125898",
         "4197"
        ],
        [
         "1981-10-01 00:00:00",
         "129735",
         "4185"
        ],
        [
         "1981-11-01 00:00:00",
         "125257",
         "4175"
        ],
        [
         "1981-12-01 00:00:00",
         "129573",
         "4180"
        ],
        [
         "1982-01-01 00:00:00",
         "127644",
         "4118"
        ],
        [
         "1982-02-01 00:00:00",
         "116957",
         "4177"
        ],
        [
         "1982-03-01 00:00:00",
         "130347",
         "4205"
        ],
        [
         "1982-04-01 00:00:00",
         "126047",
         "4202"
        ],
        [
         "1982-05-01 00:00:00",
         "130230",
         "4201"
        ],
        [
         "1982-06-01 00:00:00",
         "125199",
         "4173"
        ],
        [
         "1982-07-01 00:00:00",
         "129356",
         "4173"
        ],
        [
         "1982-08-01 00:00:00",
         "128944",
         "4159"
        ],
        [
         "1982-09-01 00:00:00",
         "125526",
         "4184"
        ],
        [
         "1982-10-01 00:00:00",
         "130232",
         "4201"
        ],
        [
         "1982-11-01 00:00:00",
         "126841",
         "4228"
        ],
        [
         "1982-12-01 00:00:00",
         "129302",
         "4171"
        ],
        [
         "1983-01-01 00:00:00",
         "129086",
         "4164"
        ]
       ],
       "shape": {
        "columns": 2,
        "rows": 25
       }
      },
      "text/html": [
       "<div>\n",
       "<style scoped>\n",
       "    .dataframe tbody tr th:only-of-type {\n",
       "        vertical-align: middle;\n",
       "    }\n",
       "\n",
       "    .dataframe tbody tr th {\n",
       "        vertical-align: top;\n",
       "    }\n",
       "\n",
       "    .dataframe thead th {\n",
       "        text-align: right;\n",
       "    }\n",
       "</style>\n",
       "<table border=\"1\" class=\"dataframe\">\n",
       "  <thead>\n",
       "    <tr style=\"text-align: right;\">\n",
       "      <th>units</th>\n",
       "      <th>MBBL</th>\n",
       "      <th>MBBL/D</th>\n",
       "    </tr>\n",
       "    <tr>\n",
       "      <th>period</th>\n",
       "      <th></th>\n",
       "      <th></th>\n",
       "    </tr>\n",
       "  </thead>\n",
       "  <tbody>\n",
       "    <tr>\n",
       "      <th>1981-01-01</th>\n",
       "      <td>132577</td>\n",
       "      <td>4277</td>\n",
       "    </tr>\n",
       "    <tr>\n",
       "      <th>1981-02-01</th>\n",
       "      <td>119414</td>\n",
       "      <td>4265</td>\n",
       "    </tr>\n",
       "    <tr>\n",
       "      <th>1981-03-01</th>\n",
       "      <td>132899</td>\n",
       "      <td>4287</td>\n",
       "    </tr>\n",
       "    <tr>\n",
       "      <th>1981-04-01</th>\n",
       "      <td>127524</td>\n",
       "      <td>4251</td>\n",
       "    </tr>\n",
       "    <tr>\n",
       "      <th>1981-05-01</th>\n",
       "      <td>129558</td>\n",
       "      <td>4179</td>\n",
       "    </tr>\n",
       "    <tr>\n",
       "      <th>1981-06-01</th>\n",
       "      <td>126566</td>\n",
       "      <td>4219</td>\n",
       "    </tr>\n",
       "    <tr>\n",
       "      <th>1981-07-01</th>\n",
       "      <td>129775</td>\n",
       "      <td>4186</td>\n",
       "    </tr>\n",
       "    <tr>\n",
       "      <th>1981-08-01</th>\n",
       "      <td>130475</td>\n",
       "      <td>4209</td>\n",
       "    </tr>\n",
       "    <tr>\n",
       "      <th>1981-09-01</th>\n",
       "      <td>125898</td>\n",
       "      <td>4197</td>\n",
       "    </tr>\n",
       "    <tr>\n",
       "      <th>1981-10-01</th>\n",
       "      <td>129735</td>\n",
       "      <td>4185</td>\n",
       "    </tr>\n",
       "    <tr>\n",
       "      <th>1981-11-01</th>\n",
       "      <td>125257</td>\n",
       "      <td>4175</td>\n",
       "    </tr>\n",
       "    <tr>\n",
       "      <th>1981-12-01</th>\n",
       "      <td>129573</td>\n",
       "      <td>4180</td>\n",
       "    </tr>\n",
       "    <tr>\n",
       "      <th>1982-01-01</th>\n",
       "      <td>127644</td>\n",
       "      <td>4118</td>\n",
       "    </tr>\n",
       "    <tr>\n",
       "      <th>1982-02-01</th>\n",
       "      <td>116957</td>\n",
       "      <td>4177</td>\n",
       "    </tr>\n",
       "    <tr>\n",
       "      <th>1982-03-01</th>\n",
       "      <td>130347</td>\n",
       "      <td>4205</td>\n",
       "    </tr>\n",
       "    <tr>\n",
       "      <th>1982-04-01</th>\n",
       "      <td>126047</td>\n",
       "      <td>4202</td>\n",
       "    </tr>\n",
       "    <tr>\n",
       "      <th>1982-05-01</th>\n",
       "      <td>130230</td>\n",
       "      <td>4201</td>\n",
       "    </tr>\n",
       "    <tr>\n",
       "      <th>1982-06-01</th>\n",
       "      <td>125199</td>\n",
       "      <td>4173</td>\n",
       "    </tr>\n",
       "    <tr>\n",
       "      <th>1982-07-01</th>\n",
       "      <td>129356</td>\n",
       "      <td>4173</td>\n",
       "    </tr>\n",
       "    <tr>\n",
       "      <th>1982-08-01</th>\n",
       "      <td>128944</td>\n",
       "      <td>4159</td>\n",
       "    </tr>\n",
       "    <tr>\n",
       "      <th>1982-09-01</th>\n",
       "      <td>125526</td>\n",
       "      <td>4184</td>\n",
       "    </tr>\n",
       "    <tr>\n",
       "      <th>1982-10-01</th>\n",
       "      <td>130232</td>\n",
       "      <td>4201</td>\n",
       "    </tr>\n",
       "    <tr>\n",
       "      <th>1982-11-01</th>\n",
       "      <td>126841</td>\n",
       "      <td>4228</td>\n",
       "    </tr>\n",
       "    <tr>\n",
       "      <th>1982-12-01</th>\n",
       "      <td>129302</td>\n",
       "      <td>4171</td>\n",
       "    </tr>\n",
       "    <tr>\n",
       "      <th>1983-01-01</th>\n",
       "      <td>129086</td>\n",
       "      <td>4164</td>\n",
       "    </tr>\n",
       "  </tbody>\n",
       "</table>\n",
       "</div>"
      ],
      "text/plain": [
       "units         MBBL  MBBL/D\n",
       "period                    \n",
       "1981-01-01  132577    4277\n",
       "1981-02-01  119414    4265\n",
       "1981-03-01  132899    4287\n",
       "1981-04-01  127524    4251\n",
       "1981-05-01  129558    4179\n",
       "1981-06-01  126566    4219\n",
       "1981-07-01  129775    4186\n",
       "1981-08-01  130475    4209\n",
       "1981-09-01  125898    4197\n",
       "1981-10-01  129735    4185\n",
       "1981-11-01  125257    4175\n",
       "1981-12-01  129573    4180\n",
       "1982-01-01  127644    4118\n",
       "1982-02-01  116957    4177\n",
       "1982-03-01  130347    4205\n",
       "1982-04-01  126047    4202\n",
       "1982-05-01  130230    4201\n",
       "1982-06-01  125199    4173\n",
       "1982-07-01  129356    4173\n",
       "1982-08-01  128944    4159\n",
       "1982-09-01  125526    4184\n",
       "1982-10-01  130232    4201\n",
       "1982-11-01  126841    4228\n",
       "1982-12-01  129302    4171\n",
       "1983-01-01  129086    4164"
      ]
     },
     "execution_count": 99,
     "metadata": {},
     "output_type": "execute_result"
    }
   ],
   "source": [
    "# Sort by period.\n",
    "df['period'] = pd.to_datetime(df['period'])\n",
    "df = df.sort_values(by='period').reset_index(drop=True)\n",
    "\n",
    "# Filter for main product (Crude Oil + Field Production)\n",
    "df_main = df[(df['product-name'] == 'Crude Oil') & \n",
    "             (df['process-name'] == 'Field Production')]\n",
    "\n",
    "# Create a pivot table\n",
    "pivot_df = df_main.pivot_table(index='period', \n",
    "                               columns='units', \n",
    "                               values='value', \n",
    "                               aggfunc='sum')\n",
    "pivot_df.head(25)"
   ]
  },
  {
   "cell_type": "markdown",
   "id": "a4119d24",
   "metadata": {},
   "source": [
    "### 6.Visualization"
   ]
  },
  {
   "cell_type": "markdown",
   "id": "d316b97f",
   "metadata": {},
   "source": [
    "#### 6.1 Production over time"
   ]
  },
  {
   "cell_type": "code",
   "execution_count": 100,
   "id": "dd83ce3b",
   "metadata": {},
   "outputs": [
    {
     "data": {
      "image/png": "[encoded data removed]",
      "text/plain": [
       "<Figure size 1200x600 with 1 Axes>"
      ]
     },
     "metadata": {},
     "output_type": "display_data"
    }
   ],
   "source": [
    "plt.figure(figsize=(12,6))\n",
    "plt.plot(pivot_df.index, pivot_df['MBBL/D'], label='Daily Production (MBBL/D)', color='blue')\n",
    "plt.title(\"PADD 3 Crude Oil Production Over Time\")\n",
    "plt.xlabel(\"Date\")\n",
    "plt.ylabel(\"Production (MBBL/D)\")\n",
    "plt.legend()\n",
    "plt.show()"
   ]
  },
  {
   "cell_type": "markdown",
   "id": "34f469c9",
   "metadata": {},
   "source": [
    "#### 6.2 Rolling average to observe trends"
   ]
  },
  {
   "cell_type": "code",
   "execution_count": 101,
   "id": "322cbb51",
   "metadata": {},
   "outputs": [
    {
     "data": {
      "image/png": "[encoded data removed]",
      "text/plain": [
       "<Figure size 1200x600 with 1 Axes>"
      ]
     },
     "metadata": {},
     "output_type": "display_data"
    }
   ],
   "source": [
    "pivot_df['rolling_12m'] = pivot_df['MBBL/D'].rolling(12).mean()\n",
    "plt.figure(figsize=(12,6))\n",
    "plt.plot(pivot_df.index, pivot_df['MBBL/D'], alpha=0.5, label='Monthly')\n",
    "plt.plot(pivot_df.index, pivot_df['rolling_12m'], color='red', label='12-Month Rolling Average')\n",
    "plt.title(\"PADD 3 Crude Oil Production - Trend\")\n",
    "plt.xlabel(\"Date\")\n",
    "plt.ylabel(\"Production (MBBL/D)\")\n",
    "plt.legend()\n",
    "plt.show()"
   ]
  },
  {
   "cell_type": "markdown",
   "id": "f2e41872",
   "metadata": {},
   "source": [
    "#### 6.3 Seasonal plot"
   ]
  },
  {
   "cell_type": "code",
   "execution_count": 102,
   "id": "bc671376",
   "metadata": {},
   "outputs": [
    {
     "data": {
      "image/png": "[encoded data removed]",
      "text/plain": [
       "<Figure size 800x500 with 1 Axes>"
      ]
     },
     "metadata": {},
     "output_type": "display_data"
    }
   ],
   "source": [
    "df_main['year'] = df_main['period'].dt.year\n",
    "df_main['month'] = df_main['period'].dt.month\n",
    "monthly_avg = df_main.groupby('month')['value'].mean()\n",
    "\n",
    "plt.figure(figsize=(8,5))\n",
    "monthly_avg.plot(kind='bar', color='green')\n",
    "plt.title(\"Average Monthly Production Pattern\")\n",
    "plt.xlabel(\"Month\")\n",
    "plt.ylabel(\"Average Production (MBBL/D)\")\n",
    "plt.show()\n"
   ]
  },
  {
   "cell_type": "markdown",
   "id": "5c675bbb",
   "metadata": {},
   "source": [
    "We observe a clear increasing trend from the 1980s to the early 2010s, peaking in 2019, followed by volatility around the COVID-19 pandemic. Strong seasonality is not evident, suggesting production is more driven by macroeconomic and policy factors."
   ]
  },
  {
   "cell_type": "code",
   "execution_count": null,
   "id": "75de47e9",
   "metadata": {},
   "outputs": [],
   "source": [
    "pivot_df.reset_index().to_csv(\"../data/cleaned/oil_production_cleaned.csv\", index=False)"
   ]
  }
 ],
 "metadata": {
  "kernelspec": {
   "display_name": "Enverus",
   "language": "python",
   "name": "python3"
  },
  "language_info": {
   "codemirror_mode": {
    "name": "ipython",
    "version": 3
   },
   "file_extension": ".py",
   "mimetype": "text/x-python",
   "name": "python",
   "nbconvert_exporter": "python",
   "pygments_lexer": "ipython3",
   "version": "3.12.8"
  }
 },
 "nbformat": 4,
 "nbformat_minor": 5
}
